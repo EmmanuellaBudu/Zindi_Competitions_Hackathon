{
 "cells": [
  {
   "cell_type": "code",
   "execution_count": 1,
   "metadata": {},
   "outputs": [
    {
     "name": "stderr",
     "output_type": "stream",
     "text": [
      "Using TensorFlow backend.\n"
     ]
    }
   ],
   "source": [
    "import pandas as pd\n",
    "import seaborn as sns\n",
    "from matplotlib import pyplot as plt\n",
    "import numpy as np\n",
    "\n",
    "from sklearn.model_selection import train_test_split\n",
    "from sklearn.linear_model import LogisticRegression\n",
    "from sklearn.ensemble import RandomForestClassifier, VotingClassifier\n",
    "from sklearn.metrics import accuracy_score,  mean_squared_error, f1_score, roc_auc_score\n",
    "\n",
    "from sklearn.preprocessing import LabelEncoder\n",
    "from sklearn.preprocessing import OneHotEncoder\n",
    "\n",
    "from imblearn.over_sampling import SMOTE\n",
    "from sklearn.decomposition import PCA\n",
    "\n",
    "label = LabelEncoder()\n"
   ]
  },
  {
   "cell_type": "markdown",
   "metadata": {},
   "source": [
    "##### Data loading and Preparation"
   ]
  },
  {
   "cell_type": "code",
   "execution_count": 2,
   "metadata": {},
   "outputs": [],
   "source": [
    "train_df = pd.read_csv(\"Train.csv\")\n",
    "#make a copy\n",
    "train_df_cp=train_df"
   ]
  },
  {
   "cell_type": "code",
   "execution_count": 3,
   "metadata": {},
   "outputs": [
    {
     "data": {
      "text/plain": [
       "(7736, 21)"
      ]
     },
     "execution_count": 3,
     "metadata": {},
     "output_type": "execute_result"
    }
   ],
   "source": [
    "train_df.shape"
   ]
  },
  {
   "cell_type": "code",
   "execution_count": 4,
   "metadata": {},
   "outputs": [
    {
     "data": {
      "text/html": [
       "<div>\n",
       "<style scoped>\n",
       "    .dataframe tbody tr th:only-of-type {\n",
       "        vertical-align: middle;\n",
       "    }\n",
       "\n",
       "    .dataframe tbody tr th {\n",
       "        vertical-align: top;\n",
       "    }\n",
       "\n",
       "    .dataframe thead th {\n",
       "        text-align: right;\n",
       "    }\n",
       "</style>\n",
       "<table border=\"1\" class=\"dataframe\">\n",
       "  <thead>\n",
       "    <tr style=\"text-align: right;\">\n",
       "      <th></th>\n",
       "      <th>ID</th>\n",
       "      <th>gender</th>\n",
       "      <th>age</th>\n",
       "      <th>race</th>\n",
       "      <th>dwelling</th>\n",
       "      <th>dwelling_type</th>\n",
       "      <th>province_code</th>\n",
       "      <th>metro_code</th>\n",
       "      <th>psu</th>\n",
       "      <th>nationality</th>\n",
       "      <th>...</th>\n",
       "      <th>marital_st</th>\n",
       "      <th>Lang_inside</th>\n",
       "      <th>Lang_outside</th>\n",
       "      <th>Education</th>\n",
       "      <th>lw_work</th>\n",
       "      <th>lw_business</th>\n",
       "      <th>help_on_household</th>\n",
       "      <th>job_or_business</th>\n",
       "      <th>nature_of_work</th>\n",
       "      <th>target</th>\n",
       "    </tr>\n",
       "  </thead>\n",
       "  <tbody>\n",
       "    <tr>\n",
       "      <td>0</td>\n",
       "      <td>ID_00008683</td>\n",
       "      <td>Female</td>\n",
       "      <td>20</td>\n",
       "      <td>Black African</td>\n",
       "      <td>Dwelling/house or brick/concrete block structu...</td>\n",
       "      <td>Formal</td>\n",
       "      <td>North West</td>\n",
       "      <td>NW - Non Metro</td>\n",
       "      <td>66710095</td>\n",
       "      <td>South Africa</td>\n",
       "      <td>...</td>\n",
       "      <td>Single and have never been married/never lived...</td>\n",
       "      <td>Xitsonga</td>\n",
       "      <td>Setswana</td>\n",
       "      <td>Grade 11/Standard 9/Form 4</td>\n",
       "      <td>No</td>\n",
       "      <td>No</td>\n",
       "      <td>No</td>\n",
       "      <td>No</td>\n",
       "      <td>Not applicable</td>\n",
       "      <td>0</td>\n",
       "    </tr>\n",
       "    <tr>\n",
       "      <td>1</td>\n",
       "      <td>ID_00061163</td>\n",
       "      <td>Female</td>\n",
       "      <td>42</td>\n",
       "      <td>Black African</td>\n",
       "      <td>Dwelling/house or brick/concrete block structu...</td>\n",
       "      <td>Formal</td>\n",
       "      <td>Limpopo</td>\n",
       "      <td>LP - Non Metro</td>\n",
       "      <td>98510279</td>\n",
       "      <td>South Africa</td>\n",
       "      <td>...</td>\n",
       "      <td>Living together like husband and wife</td>\n",
       "      <td>Sepedi</td>\n",
       "      <td>Sepedi</td>\n",
       "      <td>Grade 12/Standard 10/Form 5/Matric (No Exemption)</td>\n",
       "      <td>Yes</td>\n",
       "      <td>No</td>\n",
       "      <td>No</td>\n",
       "      <td>Not applicable</td>\n",
       "      <td>Permanent</td>\n",
       "      <td>0</td>\n",
       "    </tr>\n",
       "    <tr>\n",
       "      <td>2</td>\n",
       "      <td>ID_00071403</td>\n",
       "      <td>Female</td>\n",
       "      <td>86</td>\n",
       "      <td>Black African</td>\n",
       "      <td>Dwelling/house or brick/concrete block structu...</td>\n",
       "      <td>Formal</td>\n",
       "      <td>Eastern Cape</td>\n",
       "      <td>EC - Non Metro</td>\n",
       "      <td>29210321</td>\n",
       "      <td>South Africa</td>\n",
       "      <td>...</td>\n",
       "      <td>Widowed</td>\n",
       "      <td>IsiXhosa</td>\n",
       "      <td>IsiXhosa</td>\n",
       "      <td>Unspecified</td>\n",
       "      <td>No</td>\n",
       "      <td>No</td>\n",
       "      <td>No</td>\n",
       "      <td>No</td>\n",
       "      <td>Not applicable</td>\n",
       "      <td>0</td>\n",
       "    </tr>\n",
       "    <tr>\n",
       "      <td>3</td>\n",
       "      <td>ID_00077803</td>\n",
       "      <td>Female</td>\n",
       "      <td>20</td>\n",
       "      <td>Black African</td>\n",
       "      <td>Town house (semi-detached house in complex)</td>\n",
       "      <td>Formal</td>\n",
       "      <td>KwaZulu-Natal</td>\n",
       "      <td>KZN - eThekwini</td>\n",
       "      <td>59913860</td>\n",
       "      <td>South Africa</td>\n",
       "      <td>...</td>\n",
       "      <td>Single and have never been married/never lived...</td>\n",
       "      <td>IsiZulu</td>\n",
       "      <td>IsiZulu</td>\n",
       "      <td>Grade 12/Standard 10/Form 5/Matric (No Exemption)</td>\n",
       "      <td>No</td>\n",
       "      <td>No</td>\n",
       "      <td>No</td>\n",
       "      <td>No</td>\n",
       "      <td>Not applicable</td>\n",
       "      <td>0</td>\n",
       "    </tr>\n",
       "    <tr>\n",
       "      <td>4</td>\n",
       "      <td>ID_00086763</td>\n",
       "      <td>Female</td>\n",
       "      <td>26</td>\n",
       "      <td>Black African</td>\n",
       "      <td>Town house (semi-detached house in complex)</td>\n",
       "      <td>Formal</td>\n",
       "      <td>Gauteng</td>\n",
       "      <td>GP - City of Johannesburg</td>\n",
       "      <td>79813828</td>\n",
       "      <td>South Africa</td>\n",
       "      <td>...</td>\n",
       "      <td>Single and have never been married/never lived...</td>\n",
       "      <td>Setswana</td>\n",
       "      <td>English</td>\n",
       "      <td>Grade 12/Standard 10/Form 5/Matric (No Exemption)</td>\n",
       "      <td>No</td>\n",
       "      <td>No</td>\n",
       "      <td>No</td>\n",
       "      <td>No</td>\n",
       "      <td>Not applicable</td>\n",
       "      <td>0</td>\n",
       "    </tr>\n",
       "  </tbody>\n",
       "</table>\n",
       "<p>5 rows × 21 columns</p>\n",
       "</div>"
      ],
      "text/plain": [
       "            ID  gender  age           race  \\\n",
       "0  ID_00008683  Female   20  Black African   \n",
       "1  ID_00061163  Female   42  Black African   \n",
       "2  ID_00071403  Female   86  Black African   \n",
       "3  ID_00077803  Female   20  Black African   \n",
       "4  ID_00086763  Female   26  Black African   \n",
       "\n",
       "                                            dwelling dwelling_type  \\\n",
       "0  Dwelling/house or brick/concrete block structu...        Formal   \n",
       "1  Dwelling/house or brick/concrete block structu...        Formal   \n",
       "2  Dwelling/house or brick/concrete block structu...        Formal   \n",
       "3        Town house (semi-detached house in complex)        Formal   \n",
       "4        Town house (semi-detached house in complex)        Formal   \n",
       "\n",
       "   province_code                 metro_code       psu   nationality  ...  \\\n",
       "0     North West             NW - Non Metro  66710095  South Africa  ...   \n",
       "1        Limpopo             LP - Non Metro  98510279  South Africa  ...   \n",
       "2   Eastern Cape             EC - Non Metro  29210321  South Africa  ...   \n",
       "3  KwaZulu-Natal            KZN - eThekwini  59913860  South Africa  ...   \n",
       "4        Gauteng  GP - City of Johannesburg  79813828  South Africa  ...   \n",
       "\n",
       "                                          marital_st Lang_inside Lang_outside  \\\n",
       "0  Single and have never been married/never lived...    Xitsonga     Setswana   \n",
       "1              Living together like husband and wife      Sepedi       Sepedi   \n",
       "2                                            Widowed    IsiXhosa     IsiXhosa   \n",
       "3  Single and have never been married/never lived...     IsiZulu      IsiZulu   \n",
       "4  Single and have never been married/never lived...    Setswana      English   \n",
       "\n",
       "                                           Education lw_work lw_business  \\\n",
       "0                         Grade 11/Standard 9/Form 4      No          No   \n",
       "1  Grade 12/Standard 10/Form 5/Matric (No Exemption)     Yes          No   \n",
       "2                                        Unspecified      No          No   \n",
       "3  Grade 12/Standard 10/Form 5/Matric (No Exemption)      No          No   \n",
       "4  Grade 12/Standard 10/Form 5/Matric (No Exemption)      No          No   \n",
       "\n",
       "  help_on_household job_or_business  nature_of_work target  \n",
       "0                No              No  Not applicable      0  \n",
       "1                No  Not applicable       Permanent      0  \n",
       "2                No              No  Not applicable      0  \n",
       "3                No              No  Not applicable      0  \n",
       "4                No              No  Not applicable      0  \n",
       "\n",
       "[5 rows x 21 columns]"
      ]
     },
     "execution_count": 4,
     "metadata": {},
     "output_type": "execute_result"
    }
   ],
   "source": [
    "train_df.head()"
   ]
  },
  {
   "cell_type": "code",
   "execution_count": 5,
   "metadata": {},
   "outputs": [
    {
     "data": {
      "text/plain": [
       "Index(['ID', 'gender', 'age', 'race', 'dwelling', 'dwelling_type',\n",
       "       'province_code', 'metro_code', 'psu', 'nationality', 'RTH',\n",
       "       'marital_st', 'Lang_inside', 'Lang_outside', 'Education', 'lw_work',\n",
       "       'lw_business', 'help_on_household', 'job_or_business', 'nature_of_work',\n",
       "       'target'],\n",
       "      dtype='object')"
      ]
     },
     "execution_count": 5,
     "metadata": {},
     "output_type": "execute_result"
    }
   ],
   "source": [
    "train_df.columns"
   ]
  },
  {
   "cell_type": "code",
   "execution_count": 6,
   "metadata": {},
   "outputs": [
    {
     "name": "stdout",
     "output_type": "stream",
     "text": [
      "<class 'pandas.core.frame.DataFrame'>\n",
      "RangeIndex: 7736 entries, 0 to 7735\n",
      "Data columns (total 21 columns):\n",
      "ID                   7736 non-null object\n",
      "gender               7736 non-null object\n",
      "age                  7736 non-null int64\n",
      "race                 7736 non-null object\n",
      "dwelling             7736 non-null object\n",
      "dwelling_type        7736 non-null object\n",
      "province_code        7736 non-null object\n",
      "metro_code           7736 non-null object\n",
      "psu                  7736 non-null int64\n",
      "nationality          7736 non-null object\n",
      "RTH                  7736 non-null object\n",
      "marital_st           7736 non-null object\n",
      "Lang_inside          7736 non-null object\n",
      "Lang_outside         7736 non-null object\n",
      "Education            7736 non-null object\n",
      "lw_work              7736 non-null object\n",
      "lw_business          7736 non-null object\n",
      "help_on_household    7736 non-null object\n",
      "job_or_business      7736 non-null object\n",
      "nature_of_work       7736 non-null object\n",
      "target               7736 non-null int64\n",
      "dtypes: int64(3), object(18)\n",
      "memory usage: 1.2+ MB\n"
     ]
    }
   ],
   "source": [
    "#First lets look at the data in the columns of the dataset\n",
    "train_df.info()"
   ]
  },
  {
   "cell_type": "markdown",
   "metadata": {},
   "source": [
    "We dont seem to have any columns without values, so we're good to go. "
   ]
  },
  {
   "cell_type": "code",
   "execution_count": 7,
   "metadata": {},
   "outputs": [
    {
     "data": {
      "text/plain": [
       "ID                   False\n",
       "gender               False\n",
       "age                  False\n",
       "race                 False\n",
       "dwelling             False\n",
       "dwelling_type        False\n",
       "province_code        False\n",
       "metro_code           False\n",
       "psu                  False\n",
       "nationality          False\n",
       "RTH                  False\n",
       "marital_st           False\n",
       "Lang_inside          False\n",
       "Lang_outside         False\n",
       "Education            False\n",
       "lw_work              False\n",
       "lw_business          False\n",
       "help_on_household    False\n",
       "job_or_business      False\n",
       "nature_of_work       False\n",
       "target               False\n",
       "dtype: bool"
      ]
     },
     "execution_count": 7,
     "metadata": {},
     "output_type": "execute_result"
    }
   ],
   "source": [
    "#Check for mising values\n",
    "train_df.isnull().any()"
   ]
  },
  {
   "cell_type": "markdown",
   "metadata": {},
   "source": [
    "No missing values as well. Yaay."
   ]
  },
  {
   "cell_type": "markdown",
   "metadata": {},
   "source": [
    "#### Data Visualisation"
   ]
  },
  {
   "cell_type": "markdown",
   "metadata": {},
   "source": [
    "To begin data visualization, lets look at the target variables, then identify the categorical features and numerical features."
   ]
  },
  {
   "cell_type": "code",
   "execution_count": 8,
   "metadata": {},
   "outputs": [
    {
     "data": {
      "text/plain": [
       "<matplotlib.axes._subplots.AxesSubplot at 0x27c97588470>"
      ]
     },
     "execution_count": 8,
     "metadata": {},
     "output_type": "execute_result"
    },
    {
     "data": {
      "image/png": "[encoded data removed]",
      "text/plain": [
       "<Figure size 432x288 with 1 Axes>"
      ]
     },
     "metadata": {
      "needs_background": "light"
     },
     "output_type": "display_data"
    }
   ],
   "source": [
    "sns.countplot(train_df[\"target\"])"
   ]
  },
  {
   "cell_type": "markdown",
   "metadata": {},
   "source": [
    "We can see that there are more 0's than 1's. This shows an imbalance in the dataset. We might have to address that. "
   ]
  },
  {
   "cell_type": "markdown",
   "metadata": {},
   "source": [
    "# # Categorical Features."
   ]
  },
  {
   "cell_type": "code",
   "execution_count": 9,
   "metadata": {},
   "outputs": [],
   "source": [
    "train_df = train_df.drop('ID', axis=1)# feature columns"
   ]
  },
  {
   "cell_type": "code",
   "execution_count": 10,
   "metadata": {},
   "outputs": [
    {
     "name": "stdout",
     "output_type": "stream",
     "text": [
      "Categorical features 17\n",
      "Categorical features Index(['gender', 'race', 'dwelling', 'dwelling_type', 'province_code',\n",
      "       'metro_code', 'nationality', 'RTH', 'marital_st', 'Lang_inside',\n",
      "       'Lang_outside', 'Education', 'lw_work', 'lw_business',\n",
      "       'help_on_household', 'job_or_business', 'nature_of_work'],\n",
      "      dtype='object')\n"
     ]
    }
   ],
   "source": [
    "\n",
    "cat_features = train_df.dtypes[train_df.dtypes == 'object'].index\n",
    "print('Categorical features', len(cat_features))\n",
    "\n",
    "print(\"Categorical features\", train_df[cat_features].columns)"
   ]
  },
  {
   "cell_type": "code",
   "execution_count": 11,
   "metadata": {},
   "outputs": [
    {
     "data": {
      "image/png": "[encoded data removed]",
      "text/plain": [
       "<Figure size 360x360 with 1 Axes>"
      ]
     },
     "metadata": {
      "needs_background": "light"
     },
     "output_type": "display_data"
    }
   ],
   "source": [
    "sns.catplot(x='race', kind=\"count\", palette=\"ch:.25\", data=train_df);"
   ]
  },
  {
   "cell_type": "markdown",
   "metadata": {},
   "source": [
    "Our dataset has more more people of Black African descent than any other race."
   ]
  },
  {
   "cell_type": "code",
   "execution_count": 12,
   "metadata": {},
   "outputs": [
    {
     "data": {
      "text/plain": [
       "<matplotlib.axes._subplots.AxesSubplot at 0x27c979b6940>"
      ]
     },
     "execution_count": 12,
     "metadata": {},
     "output_type": "execute_result"
    },
    {
     "data": {
      "image/png": "[encoded data removed]",
      "text/plain": [
       "<Figure size 1008x504 with 1 Axes>"
      ]
     },
     "metadata": {},
     "output_type": "display_data"
    }
   ],
   "source": [
    "sns.set_style('whitegrid')\n",
    "plt.figure(figsize=(14,7))\n",
    "sns.countplot(train_df['province_code'])"
   ]
  },
  {
   "cell_type": "markdown",
   "metadata": {},
   "source": [
    "Most respondents wee from the GAuteg province as opposed to other provinces"
   ]
  },
  {
   "cell_type": "code",
   "execution_count": 13,
   "metadata": {},
   "outputs": [
    {
     "data": {
      "text/plain": [
       "<matplotlib.axes._subplots.AxesSubplot at 0x27c97b94908>"
      ]
     },
     "execution_count": 13,
     "metadata": {},
     "output_type": "execute_result"
    },
    {
     "data": {
      "image/png": "[encoded data removed]",
      "text/plain": [
       "<Figure size 1008x504 with 1 Axes>"
      ]
     },
     "metadata": {},
     "output_type": "display_data"
    }
   ],
   "source": [
    "sns.set_style('whitegrid')\n",
    "plt.figure(figsize=(14,7))\n",
    "sns.countplot(train_df['dwelling'])"
   ]
  },
  {
   "cell_type": "markdown",
   "metadata": {},
   "source": [
    "# # Numerical Features"
   ]
  },
  {
   "cell_type": "code",
   "execution_count": 14,
   "metadata": {},
   "outputs": [
    {
     "name": "stdout",
     "output_type": "stream",
     "text": [
      "Numerical features 3\n",
      "Numerical features Index(['age', 'psu', 'target'], dtype='object')\n"
     ]
    }
   ],
   "source": [
    "num_features = train_df.dtypes[train_df.dtypes != 'object'].index\n",
    "print('Numerical features', len(num_features))\n",
    "print(\"Numerical features\", train_df[num_features].columns)"
   ]
  },
  {
   "cell_type": "code",
   "execution_count": 15,
   "metadata": {},
   "outputs": [
    {
     "data": {
      "text/plain": [
       "<matplotlib.axes._subplots.AxesSubplot at 0x27c97c91e80>"
      ]
     },
     "execution_count": 15,
     "metadata": {},
     "output_type": "execute_result"
    },
    {
     "data": {
      "image/png": "[encoded data removed]",
      "text/plain": [
       "<Figure size 432x288 with 1 Axes>"
      ]
     },
     "metadata": {},
     "output_type": "display_data"
    }
   ],
   "source": [
    "sns.distplot(train_df[\"age\"])"
   ]
  },
  {
   "cell_type": "markdown",
   "metadata": {},
   "source": [
    "- Try to create more visualisation from the other columns, what is the level of education of individual in the dataset.\n",
    "- What about coorelation of other columns to the target."
   ]
  },
  {
   "cell_type": "markdown",
   "metadata": {},
   "source": [
    "It look like we have more respondents in the ages of 30 -40."
   ]
  },
  {
   "cell_type": "code",
   "execution_count": 16,
   "metadata": {},
   "outputs": [
    {
     "data": {
      "text/plain": [
       "<matplotlib.axes._subplots.AxesSubplot at 0x27c97d44208>"
      ]
     },
     "execution_count": 16,
     "metadata": {},
     "output_type": "execute_result"
    },
    {
     "data": {
      "image/png": "[encoded data removed]",
      "text/plain": [
       "<Figure size 432x288 with 1 Axes>"
      ]
     },
     "metadata": {},
     "output_type": "display_data"
    }
   ],
   "source": [
    "sns.distplot(train_df[\"psu\"])"
   ]
  },
  {
   "cell_type": "code",
   "execution_count": null,
   "metadata": {},
   "outputs": [],
   "source": []
  },
  {
   "cell_type": "markdown",
   "metadata": {},
   "source": [
    "##### Handling Categorical columns\n",
    "- There are various way of encoding categorical columns. In the case below we're using label encoding \n",
    "<https://scikit-learn.org/stable/modules/generated/sklearn.preprocessing.LabelEncoder.html>.\n",
    "- Find out other ways of encoding categorical columns, like one hot encoding - which one works better on this case."
   ]
  },
  {
   "cell_type": "code",
   "execution_count": 17,
   "metadata": {},
   "outputs": [],
   "source": [
    "#train_df['gender'] = label.fit_transform(train_df['gender'])\n",
    "#train_df['race'] = label.fit_transform(train_df['race'])\n",
    "#train_df['dwelling'] = label.fit_transform(train_df['dwelling'])\n",
    "#train_df['dwelling_type'] = label.fit_transform(train_df['dwelling_type'])\n",
    "#train_df['province_code'] = label.fit_transform(train_df['province_code'])\n",
    "#train_df['metro_code'] = label.fit_transform(train_df['metro_code'])\n",
    "#train_df['nationality'] = label.fit_transform(train_df['nationality'])\n",
    "#train_df['RTH'] = label.fit_transform(train_df['RTH'])\n",
    "#train_df['marital_st'] = label.fit_transform(train_df['marital_st'])\n",
    "#train_df['Lang_inside'] = label.fit_transform(train_df['Lang_inside'])\n",
    "#train_df['Lang_outside'] = label.fit_transform(train_df['Lang_outside'])\n",
    "#train_df['Education'] = label.fit_transform(train_df['Education'])\n",
    "#train_df['lw_work'] = label.fit_transform(train_df['lw_work'])\n",
    "#train_df['lw_business'] = label.fit_transform(train_df['lw_business'])\n",
    "#train_df['help_on_household'] = label.fit_transform(train_df['help_on_household'])\n",
    "#train_df['job_or_business'] = label.fit_transform(train_df['job_or_business'])\n",
    "#train_df['nature_of_work'] = label.fit_transform(train_df['nature_of_work'])\n",
    "\n"
   ]
  },
  {
   "cell_type": "code",
   "execution_count": 18,
   "metadata": {},
   "outputs": [],
   "source": [
    "# Apply one-hot encoder to each column with categorical data\n",
    "OH_encoder = OneHotEncoder(handle_unknown='ignore', sparse=False)\n",
    "OH_cols_train = pd.DataFrame(OH_encoder.fit_transform(train_df[cat_features]))\n",
    "\n",
    "\n",
    "# One-hot encoding removed index; put it back\n",
    "OH_cols_train.index = train_df.index\n",
    "\n",
    "\n",
    "# Remove categorical columns (will replace with one-hot encoding)\n",
    "num_X_train = train_df.drop(cat_features, axis=1)\n",
    "\n",
    "\n",
    "# Add one-hot encoded columns to numerical features\n",
    "OH_X_train = pd.concat([num_X_train, OH_cols_train], axis=1)\n",
    "\n",
    "OH_X_train = pd.DataFrame(OH_X_train)\n",
    "OH_X_train.head(10)\n",
    "train_set = OH_X_train"
   ]
  },
  {
   "cell_type": "code",
   "execution_count": 19,
   "metadata": {},
   "outputs": [
    {
     "data": {
      "text/plain": [
       "array(['Son/daughter/stepchild/adopted child of person 01',\n",
       "       'Other relative (e.g. in-laws or aunt/uncle) of person 01',\n",
       "       'Father/mother/stepfather/stepmother of person 01',\n",
       "       'Head/acting head', 'Husband/wife/partner of person 01',\n",
       "       'Brother/sister/stepbrother/stepsister of person 01',\n",
       "       'Grandchild/great grandchild of person 01', 'Non-related persons',\n",
       "       'Grandparent/great grandparent of person 01', 'Unspecified'],\n",
       "      dtype=object)"
      ]
     },
     "execution_count": 19,
     "metadata": {},
     "output_type": "execute_result"
    }
   ],
   "source": [
    "train_df.RTH.unique()"
   ]
  },
  {
   "cell_type": "code",
   "execution_count": 20,
   "metadata": {},
   "outputs": [
    {
     "data": {
      "text/plain": [
       "98710543"
      ]
     },
     "execution_count": 20,
     "metadata": {},
     "output_type": "execute_result"
    }
   ],
   "source": [
    "train_df.psu.max()"
   ]
  },
  {
   "cell_type": "code",
   "execution_count": 21,
   "metadata": {},
   "outputs": [],
   "source": [
    "y_train_set = train_set[\"target\"] # the label/target column\n",
    "X_train_set = train_set.drop('target', axis=1)# feature columns\n"
   ]
  },
  {
   "cell_type": "markdown",
   "metadata": {},
   "source": [
    "#### Apply SMOTE\n",
    " This is to address the imbalance"
   ]
  },
  {
   "cell_type": "markdown",
   "metadata": {},
   "source": [
    "#### SMOTE"
   ]
  },
  {
   "cell_type": "code",
   "execution_count": 22,
   "metadata": {},
   "outputs": [],
   "source": [
    "smt = SMOTE()\n",
    "X_train_set, y_train_set = smt.fit_sample(X_train_set, y_train_set)\n",
    "#y_train.value_counts()"
   ]
  },
  {
   "cell_type": "code",
   "execution_count": 23,
   "metadata": {},
   "outputs": [],
   "source": [
    "\n",
    "#PCA\n",
    "pca = PCA(n_components=7)\n",
    "train_df_up=pca.fit_transform(X_train_set)\n",
    "#x_test=pca.fit_transform(x_test)\n",
    "train_df_updated =pd.DataFrame(train_df_up)\n",
    "\n"
   ]
  },
  {
   "cell_type": "markdown",
   "metadata": {},
   "source": [
    "#### Spliting the data\n",
    "- It's always advisable to set aside some data for validating how your model performs. They are various methods of cross validation. In this case we use train-test split module from sklearn.\n",
    "\n",
    "- Try other methods of cross-validation, Kfold, Stratified Fold, etc."
   ]
  },
  {
   "cell_type": "code",
   "execution_count": 24,
   "metadata": {},
   "outputs": [],
   "source": [
    "# spliting the data, 70% train set and 30% val set\n",
    "#train_set, val_set = train_test_split(train_df,\n",
    "                           #    test_size=0.30, random_state=2)\n",
    "#train_set, val_set = train_test_split(train_df_updated,\n",
    "                             # test_size=0.30, random_state=2)\n",
    "    \n",
    "X_train, X_valid, y_train, y_valid = train_test_split(train_df_updated, y_train_set,\n",
    "                                                     test_size=0.3,\n",
    "                                                      random_state=2)\n"
   ]
  },
  {
   "cell_type": "code",
   "execution_count": 25,
   "metadata": {},
   "outputs": [],
   "source": [
    "#train_df.age.max()"
   ]
  },
  {
   "cell_type": "code",
   "execution_count": 26,
   "metadata": {},
   "outputs": [],
   "source": [
    "#train_set.shape"
   ]
  },
  {
   "cell_type": "code",
   "execution_count": 27,
   "metadata": {},
   "outputs": [],
   "source": [
    "#val_set.shape"
   ]
  },
  {
   "cell_type": "code",
   "execution_count": 28,
   "metadata": {},
   "outputs": [],
   "source": [
    "#train_set.head(5)"
   ]
  },
  {
   "cell_type": "markdown",
   "metadata": {},
   "source": [
    "##### Model\n",
    "- Create a binary classifier model for training purposes.\n",
    "- Using simple RandomForest Classifier"
   ]
  },
  {
   "cell_type": "code",
   "execution_count": 29,
   "metadata": {},
   "outputs": [
    {
     "data": {
      "text/plain": [
       "GradientBoostingClassifier(criterion='friedman_mse', init=None,\n",
       "                           learning_rate=0.5, loss='deviance', max_depth=5,\n",
       "                           max_features=None, max_leaf_nodes=None,\n",
       "                           min_impurity_decrease=0.0, min_impurity_split=None,\n",
       "                           min_samples_leaf=1, min_samples_split=2,\n",
       "                           min_weight_fraction_leaf=0.0, n_estimators=150,\n",
       "                           n_iter_no_change=None, presort='auto',\n",
       "                           random_state=60, subsample=1.0, tol=0.0001,\n",
       "                           validation_fraction=0.1, verbose=0,\n",
       "                           warm_start=False)"
      ]
     },
     "execution_count": 29,
     "metadata": {},
     "output_type": "execute_result"
    }
   ],
   "source": [
    "#cls = RandomForestClassifier()\n",
    "#from sklearn.ensemble import AdaBoostClassifier\n",
    "#cls = AdaBoostClassifier(random_state=3)\n",
    "\n",
    "from sklearn.ensemble import GradientBoostingClassifier\n",
    "cls = GradientBoostingClassifier(learning_rate=0.5,n_estimators=150, random_state=60, max_depth = 5)\n",
    "\n",
    "#import xgboost as xgb\n",
    "#cls =xgb.XGBClassifier(random_state=1,learning_rate=0.01)\n",
    "\n",
    "#cls4 = RandomForestClassifier()\n",
    "\n",
    "#eclf1 = VotingClassifier(estimators=[\n",
    "      # ('ada', cls1), ('gb', cls2), ('xg', cls3), ('rf',cls4)], voting='hard')\n",
    "\n",
    "#eclf1 = eclf1.fit(X_train, y_train)\n",
    "\n",
    "\n",
    "\n",
    "cls.fit(X_train, y_train)"
   ]
  },
  {
   "cell_type": "code",
   "execution_count": 30,
   "metadata": {},
   "outputs": [
    {
     "data": {
      "text/plain": [
       "['model.joblib']"
      ]
     },
     "execution_count": 30,
     "metadata": {},
     "output_type": "execute_result"
    }
   ],
   "source": [
    "# export to \n",
    "import sklearn.externals\n",
    "import joblib\n",
    "\n",
    "joblib.dump(cls, 'model.joblib')"
   ]
  },
  {
   "cell_type": "markdown",
   "metadata": {},
   "source": [
    "###### 1. validation set\n",
    "- let's see how our classifier performs on the validation dataset"
   ]
  },
  {
   "cell_type": "code",
   "execution_count": 31,
   "metadata": {},
   "outputs": [],
   "source": [
    "#X_val_set = val_set.drop([\"target\", \"ID\"], axis=1)\n",
    "#y_val_set = val_set[\"target\"]"
   ]
  },
  {
   "cell_type": "code",
   "execution_count": 32,
   "metadata": {},
   "outputs": [],
   "source": [
    "y_pred = cls.predict(X_valid)"
   ]
  },
  {
   "cell_type": "markdown",
   "metadata": {},
   "source": [
    "###### 2. Error metric\n",
    " - f1 score is the error metric for this competition.\n",
    " - **f1 score** -  "
   ]
  },
  {
   "cell_type": "code",
   "execution_count": 33,
   "metadata": {},
   "outputs": [
    {
     "data": {
      "text/plain": [
       "0.8681745487777016"
      ]
     },
     "execution_count": 33,
     "metadata": {},
     "output_type": "execute_result"
    }
   ],
   "source": [
    "f1_score(y_valid, y_pred)"
   ]
  },
  {
   "cell_type": "markdown",
   "metadata": {},
   "source": [
    "-We have an **f1 score of 0.0294**. Think of other ways to improve the scores like;\n",
    "         \n",
    "  - generate more features\n",
    "  - drop the column that are least important, like gender in this case since we're only dealing with female crime data\n",
    "  - try different classifier models, e.g k-Nearest Neighbor(KNN) classifier, Support Vector Machines, catboost classifier etc"
   ]
  },
  {
   "cell_type": "markdown",
   "metadata": {},
   "source": [
    "#### Submission\n",
    "\n",
    "- generating a sumission file "
   ]
  },
  {
   "cell_type": "markdown",
   "metadata": {},
   "source": [
    "###### 1. load the test data\n",
    "\n",
    "- Do the same preprocessing performed on the training data"
   ]
  },
  {
   "cell_type": "code",
   "execution_count": 34,
   "metadata": {},
   "outputs": [
    {
     "data": {
      "text/html": [
       "<div>\n",
       "<style scoped>\n",
       "    .dataframe tbody tr th:only-of-type {\n",
       "        vertical-align: middle;\n",
       "    }\n",
       "\n",
       "    .dataframe tbody tr th {\n",
       "        vertical-align: top;\n",
       "    }\n",
       "\n",
       "    .dataframe thead th {\n",
       "        text-align: right;\n",
       "    }\n",
       "</style>\n",
       "<table border=\"1\" class=\"dataframe\">\n",
       "  <thead>\n",
       "    <tr style=\"text-align: right;\">\n",
       "      <th></th>\n",
       "      <th>gender</th>\n",
       "      <th>age</th>\n",
       "      <th>race</th>\n",
       "      <th>dwelling</th>\n",
       "      <th>dwelling_type</th>\n",
       "      <th>province_code</th>\n",
       "      <th>metro_code</th>\n",
       "      <th>psu</th>\n",
       "      <th>nationality</th>\n",
       "      <th>RTH</th>\n",
       "      <th>marital_st</th>\n",
       "      <th>Lang_inside</th>\n",
       "      <th>Lang_outside</th>\n",
       "      <th>Education</th>\n",
       "      <th>lw_work</th>\n",
       "      <th>lw_business</th>\n",
       "      <th>help_on_household</th>\n",
       "      <th>job_or_business</th>\n",
       "      <th>nature_of_work</th>\n",
       "    </tr>\n",
       "  </thead>\n",
       "  <tbody>\n",
       "    <tr>\n",
       "      <td>0</td>\n",
       "      <td>Female</td>\n",
       "      <td>23</td>\n",
       "      <td>Coloured</td>\n",
       "      <td>Dwelling/house or brick/concrete block structu...</td>\n",
       "      <td>Formal</td>\n",
       "      <td>Northern Cape</td>\n",
       "      <td>NC - Non Metro</td>\n",
       "      <td>36410104</td>\n",
       "      <td>South Africa</td>\n",
       "      <td>Head/acting head</td>\n",
       "      <td>Single and have never been married/never lived...</td>\n",
       "      <td>Afrikaans</td>\n",
       "      <td>Afrikaans</td>\n",
       "      <td>Grade 10/Standard 8/Form 3</td>\n",
       "      <td>Yes</td>\n",
       "      <td>No</td>\n",
       "      <td>No</td>\n",
       "      <td>Not applicable</td>\n",
       "      <td>Permanent</td>\n",
       "    </tr>\n",
       "    <tr>\n",
       "      <td>1</td>\n",
       "      <td>Female</td>\n",
       "      <td>64</td>\n",
       "      <td>Black African</td>\n",
       "      <td>Dwelling/house or brick/concrete block structu...</td>\n",
       "      <td>Formal</td>\n",
       "      <td>Limpopo</td>\n",
       "      <td>LP - Non Metro</td>\n",
       "      <td>97410477</td>\n",
       "      <td>South Africa</td>\n",
       "      <td>Head/acting head</td>\n",
       "      <td>Widowed</td>\n",
       "      <td>Afrikaans</td>\n",
       "      <td>Afrikaans</td>\n",
       "      <td>Grade 12/Standard 10/Form 5/Matric (No Exemption)</td>\n",
       "      <td>No</td>\n",
       "      <td>No</td>\n",
       "      <td>No</td>\n",
       "      <td>No</td>\n",
       "      <td>Not applicable</td>\n",
       "    </tr>\n",
       "    <tr>\n",
       "      <td>2</td>\n",
       "      <td>Female</td>\n",
       "      <td>18</td>\n",
       "      <td>Black African</td>\n",
       "      <td>Unspecified</td>\n",
       "      <td>Unspecified</td>\n",
       "      <td>Eastern Cape</td>\n",
       "      <td>EC - Buffalo City</td>\n",
       "      <td>26011572</td>\n",
       "      <td>South Africa</td>\n",
       "      <td>Son/daughter/stepchild/adopted child of person 01</td>\n",
       "      <td>Single and have never been married/never lived...</td>\n",
       "      <td>IsiXhosa</td>\n",
       "      <td>IsiXhosa</td>\n",
       "      <td>Grade 11/Standard 9/Form 4</td>\n",
       "      <td>No</td>\n",
       "      <td>No</td>\n",
       "      <td>No</td>\n",
       "      <td>No</td>\n",
       "      <td>Not applicable</td>\n",
       "    </tr>\n",
       "    <tr>\n",
       "      <td>3</td>\n",
       "      <td>Female</td>\n",
       "      <td>19</td>\n",
       "      <td>Black African</td>\n",
       "      <td>Dwelling/house or brick/concrete block structu...</td>\n",
       "      <td>Formal</td>\n",
       "      <td>Mpumalanga</td>\n",
       "      <td>MP - Non Metro</td>\n",
       "      <td>87710674</td>\n",
       "      <td>South Africa</td>\n",
       "      <td>Son/daughter/stepchild/adopted child of person 01</td>\n",
       "      <td>Single and have never been married/never lived...</td>\n",
       "      <td>Xitsonga</td>\n",
       "      <td>Sepedi</td>\n",
       "      <td>Grade 12/Standard 10/Form 5/Matric (No Exemption)</td>\n",
       "      <td>No</td>\n",
       "      <td>No</td>\n",
       "      <td>No</td>\n",
       "      <td>No</td>\n",
       "      <td>Not applicable</td>\n",
       "    </tr>\n",
       "    <tr>\n",
       "      <td>4</td>\n",
       "      <td>Female</td>\n",
       "      <td>24</td>\n",
       "      <td>Black African</td>\n",
       "      <td>Dwelling/house or brick/concrete block structu...</td>\n",
       "      <td>Formal</td>\n",
       "      <td>Mpumalanga</td>\n",
       "      <td>MP - Non Metro</td>\n",
       "      <td>87411106</td>\n",
       "      <td>South Africa</td>\n",
       "      <td>Head/acting head</td>\n",
       "      <td>Single and have never been married/never lived...</td>\n",
       "      <td>SiSwati</td>\n",
       "      <td>SiSwati</td>\n",
       "      <td>Grade 11/Standard 9/Form 4</td>\n",
       "      <td>No</td>\n",
       "      <td>No</td>\n",
       "      <td>No</td>\n",
       "      <td>No</td>\n",
       "      <td>Not applicable</td>\n",
       "    </tr>\n",
       "  </tbody>\n",
       "</table>\n",
       "</div>"
      ],
      "text/plain": [
       "   gender  age           race  \\\n",
       "0  Female   23       Coloured   \n",
       "1  Female   64  Black African   \n",
       "2  Female   18  Black African   \n",
       "3  Female   19  Black African   \n",
       "4  Female   24  Black African   \n",
       "\n",
       "                                            dwelling dwelling_type  \\\n",
       "0  Dwelling/house or brick/concrete block structu...        Formal   \n",
       "1  Dwelling/house or brick/concrete block structu...        Formal   \n",
       "2                                        Unspecified   Unspecified   \n",
       "3  Dwelling/house or brick/concrete block structu...        Formal   \n",
       "4  Dwelling/house or brick/concrete block structu...        Formal   \n",
       "\n",
       "   province_code         metro_code       psu   nationality  \\\n",
       "0  Northern Cape     NC - Non Metro  36410104  South Africa   \n",
       "1        Limpopo     LP - Non Metro  97410477  South Africa   \n",
       "2   Eastern Cape  EC - Buffalo City  26011572  South Africa   \n",
       "3     Mpumalanga     MP - Non Metro  87710674  South Africa   \n",
       "4     Mpumalanga     MP - Non Metro  87411106  South Africa   \n",
       "\n",
       "                                                 RTH  \\\n",
       "0                                   Head/acting head   \n",
       "1                                   Head/acting head   \n",
       "2  Son/daughter/stepchild/adopted child of person 01   \n",
       "3  Son/daughter/stepchild/adopted child of person 01   \n",
       "4                                   Head/acting head   \n",
       "\n",
       "                                          marital_st Lang_inside Lang_outside  \\\n",
       "0  Single and have never been married/never lived...   Afrikaans    Afrikaans   \n",
       "1                                            Widowed   Afrikaans    Afrikaans   \n",
       "2  Single and have never been married/never lived...    IsiXhosa     IsiXhosa   \n",
       "3  Single and have never been married/never lived...    Xitsonga       Sepedi   \n",
       "4  Single and have never been married/never lived...     SiSwati      SiSwati   \n",
       "\n",
       "                                           Education lw_work lw_business  \\\n",
       "0                         Grade 10/Standard 8/Form 3     Yes          No   \n",
       "1  Grade 12/Standard 10/Form 5/Matric (No Exemption)      No          No   \n",
       "2                         Grade 11/Standard 9/Form 4      No          No   \n",
       "3  Grade 12/Standard 10/Form 5/Matric (No Exemption)      No          No   \n",
       "4                         Grade 11/Standard 9/Form 4      No          No   \n",
       "\n",
       "  help_on_household job_or_business  nature_of_work  \n",
       "0                No  Not applicable       Permanent  \n",
       "1                No              No  Not applicable  \n",
       "2                No              No  Not applicable  \n",
       "3                No              No  Not applicable  \n",
       "4                No              No  Not applicable  "
      ]
     },
     "execution_count": 34,
     "metadata": {},
     "output_type": "execute_result"
    }
   ],
   "source": [
    "test_df = pd.read_csv(\"Test.csv\")\n",
    "test_df_copy=test_df\n",
    "#test_ID=test_df[\"ID\"]\n",
    "test_ = test_df.drop([\"ID\"], axis=1)\n",
    "test_.head(5)"
   ]
  },
  {
   "cell_type": "code",
   "execution_count": 35,
   "metadata": {},
   "outputs": [],
   "source": [
    "\n",
    "\n",
    "# preprocessing\n",
    "# Apply one-hot encoder to each column with categorical data\n",
    "OH_encoder = OneHotEncoder(handle_unknown='ignore', sparse=False)\n",
    "OH_cols_test = pd.DataFrame(OH_encoder.fit_transform(test_[cat_features]))\n",
    "\n",
    "#OH_cols_test = pd.DataFrame(OH_encoder.transform(label_X_test[cat_features]))\n",
    "\n",
    "# One-hot encoding removed index; put it back\n",
    "OH_cols_test.index = test_.index\n",
    "#OH_cols_valid.index = label_X_valid.index\n",
    "#OH_cols_test.index = label_X_test.index\n",
    "\n",
    "# Remove categorical columns (will replace with one-hot encoding)\n",
    "num_X_test = test_.drop(cat_features, axis=1)\n",
    "#num_X_valid = label_X_valid.drop(cat_onehot, axis=1)\n",
    "#num_X_test = label_X_test.drop(cat_onehot, axis=1)\n",
    "\n",
    "# Add one-hot encoded columns to numerical features\n",
    "OH_X_test = pd.concat([num_X_test, OH_cols_test], axis=1)\n",
    "#OH_X_valid = pd.concat([num_X_valid, OH_cols_valid], axis=1)\n",
    "#OH_X_test = pd.concat([num_X_test, OH_cols_test], axis=1)\n",
    "OH_X_test = pd.DataFrame(OH_X_test)\n",
    "OH_X_test.head(10)\n",
    "test_transform = OH_X_test"
   ]
  },
  {
   "cell_type": "code",
   "execution_count": 36,
   "metadata": {},
   "outputs": [
    {
     "data": {
      "text/html": [
       "<div>\n",
       "<style scoped>\n",
       "    .dataframe tbody tr th:only-of-type {\n",
       "        vertical-align: middle;\n",
       "    }\n",
       "\n",
       "    .dataframe tbody tr th {\n",
       "        vertical-align: top;\n",
       "    }\n",
       "\n",
       "    .dataframe thead th {\n",
       "        text-align: right;\n",
       "    }\n",
       "</style>\n",
       "<table border=\"1\" class=\"dataframe\">\n",
       "  <thead>\n",
       "    <tr style=\"text-align: right;\">\n",
       "      <th></th>\n",
       "      <th>age</th>\n",
       "      <th>psu</th>\n",
       "      <th>0</th>\n",
       "      <th>1</th>\n",
       "      <th>2</th>\n",
       "      <th>3</th>\n",
       "      <th>4</th>\n",
       "      <th>5</th>\n",
       "      <th>6</th>\n",
       "      <th>7</th>\n",
       "      <th>...</th>\n",
       "      <th>139</th>\n",
       "      <th>140</th>\n",
       "      <th>141</th>\n",
       "      <th>142</th>\n",
       "      <th>143</th>\n",
       "      <th>144</th>\n",
       "      <th>145</th>\n",
       "      <th>146</th>\n",
       "      <th>147</th>\n",
       "      <th>148</th>\n",
       "    </tr>\n",
       "  </thead>\n",
       "  <tbody>\n",
       "    <tr>\n",
       "      <td>0</td>\n",
       "      <td>23</td>\n",
       "      <td>36410104</td>\n",
       "      <td>1.0</td>\n",
       "      <td>0.0</td>\n",
       "      <td>1.0</td>\n",
       "      <td>0.0</td>\n",
       "      <td>0.0</td>\n",
       "      <td>0.0</td>\n",
       "      <td>1.0</td>\n",
       "      <td>0.0</td>\n",
       "      <td>...</td>\n",
       "      <td>0.0</td>\n",
       "      <td>0.0</td>\n",
       "      <td>0.0</td>\n",
       "      <td>0.0</td>\n",
       "      <td>0.0</td>\n",
       "      <td>0.0</td>\n",
       "      <td>1.0</td>\n",
       "      <td>0.0</td>\n",
       "      <td>0.0</td>\n",
       "      <td>0.0</td>\n",
       "    </tr>\n",
       "    <tr>\n",
       "      <td>1</td>\n",
       "      <td>64</td>\n",
       "      <td>97410477</td>\n",
       "      <td>1.0</td>\n",
       "      <td>1.0</td>\n",
       "      <td>0.0</td>\n",
       "      <td>0.0</td>\n",
       "      <td>0.0</td>\n",
       "      <td>0.0</td>\n",
       "      <td>1.0</td>\n",
       "      <td>0.0</td>\n",
       "      <td>...</td>\n",
       "      <td>0.0</td>\n",
       "      <td>0.0</td>\n",
       "      <td>0.0</td>\n",
       "      <td>0.0</td>\n",
       "      <td>0.0</td>\n",
       "      <td>1.0</td>\n",
       "      <td>0.0</td>\n",
       "      <td>0.0</td>\n",
       "      <td>0.0</td>\n",
       "      <td>0.0</td>\n",
       "    </tr>\n",
       "    <tr>\n",
       "      <td>2</td>\n",
       "      <td>18</td>\n",
       "      <td>26011572</td>\n",
       "      <td>1.0</td>\n",
       "      <td>1.0</td>\n",
       "      <td>0.0</td>\n",
       "      <td>0.0</td>\n",
       "      <td>0.0</td>\n",
       "      <td>0.0</td>\n",
       "      <td>0.0</td>\n",
       "      <td>0.0</td>\n",
       "      <td>...</td>\n",
       "      <td>0.0</td>\n",
       "      <td>0.0</td>\n",
       "      <td>0.0</td>\n",
       "      <td>0.0</td>\n",
       "      <td>0.0</td>\n",
       "      <td>1.0</td>\n",
       "      <td>0.0</td>\n",
       "      <td>0.0</td>\n",
       "      <td>0.0</td>\n",
       "      <td>0.0</td>\n",
       "    </tr>\n",
       "    <tr>\n",
       "      <td>3</td>\n",
       "      <td>19</td>\n",
       "      <td>87710674</td>\n",
       "      <td>1.0</td>\n",
       "      <td>1.0</td>\n",
       "      <td>0.0</td>\n",
       "      <td>0.0</td>\n",
       "      <td>0.0</td>\n",
       "      <td>0.0</td>\n",
       "      <td>1.0</td>\n",
       "      <td>0.0</td>\n",
       "      <td>...</td>\n",
       "      <td>0.0</td>\n",
       "      <td>0.0</td>\n",
       "      <td>0.0</td>\n",
       "      <td>0.0</td>\n",
       "      <td>0.0</td>\n",
       "      <td>1.0</td>\n",
       "      <td>0.0</td>\n",
       "      <td>0.0</td>\n",
       "      <td>0.0</td>\n",
       "      <td>0.0</td>\n",
       "    </tr>\n",
       "    <tr>\n",
       "      <td>4</td>\n",
       "      <td>24</td>\n",
       "      <td>87411106</td>\n",
       "      <td>1.0</td>\n",
       "      <td>1.0</td>\n",
       "      <td>0.0</td>\n",
       "      <td>0.0</td>\n",
       "      <td>0.0</td>\n",
       "      <td>0.0</td>\n",
       "      <td>1.0</td>\n",
       "      <td>0.0</td>\n",
       "      <td>...</td>\n",
       "      <td>0.0</td>\n",
       "      <td>0.0</td>\n",
       "      <td>0.0</td>\n",
       "      <td>0.0</td>\n",
       "      <td>0.0</td>\n",
       "      <td>1.0</td>\n",
       "      <td>0.0</td>\n",
       "      <td>0.0</td>\n",
       "      <td>0.0</td>\n",
       "      <td>0.0</td>\n",
       "    </tr>\n",
       "  </tbody>\n",
       "</table>\n",
       "<p>5 rows × 151 columns</p>\n",
       "</div>"
      ],
      "text/plain": [
       "   age       psu    0    1    2    3    4    5    6    7  ...  139  140  141  \\\n",
       "0   23  36410104  1.0  0.0  1.0  0.0  0.0  0.0  1.0  0.0  ...  0.0  0.0  0.0   \n",
       "1   64  97410477  1.0  1.0  0.0  0.0  0.0  0.0  1.0  0.0  ...  0.0  0.0  0.0   \n",
       "2   18  26011572  1.0  1.0  0.0  0.0  0.0  0.0  0.0  0.0  ...  0.0  0.0  0.0   \n",
       "3   19  87710674  1.0  1.0  0.0  0.0  0.0  0.0  1.0  0.0  ...  0.0  0.0  0.0   \n",
       "4   24  87411106  1.0  1.0  0.0  0.0  0.0  0.0  1.0  0.0  ...  0.0  0.0  0.0   \n",
       "\n",
       "   142  143  144  145  146  147  148  \n",
       "0  0.0  0.0  0.0  1.0  0.0  0.0  0.0  \n",
       "1  0.0  0.0  1.0  0.0  0.0  0.0  0.0  \n",
       "2  0.0  0.0  1.0  0.0  0.0  0.0  0.0  \n",
       "3  0.0  0.0  1.0  0.0  0.0  0.0  0.0  \n",
       "4  0.0  0.0  1.0  0.0  0.0  0.0  0.0  \n",
       "\n",
       "[5 rows x 151 columns]"
      ]
     },
     "execution_count": 36,
     "metadata": {},
     "output_type": "execute_result"
    }
   ],
   "source": [
    "test_transform.head()"
   ]
  },
  {
   "cell_type": "code",
   "execution_count": 37,
   "metadata": {},
   "outputs": [],
   "source": [
    "#PCA\n",
    "pca = PCA(n_components=7)\n",
    "test_set_pca=pca.fit_transform(test_transform)\n",
    "#x_test=pca.fit_transform(x_test)\n",
    "test_df_up =pd.DataFrame(test_set_pca)\n"
   ]
  },
  {
   "cell_type": "code",
   "execution_count": 38,
   "metadata": {},
   "outputs": [],
   "source": [
    "### predict on the test data\n",
    "\n",
    "test_predictions = cls.predict(test_df_up)\n",
    "submission_df = pd.DataFrame()\n",
    "submission_df[\"ID\"] = test_df_copy[\"ID\"]\n",
    "submission_df[\"target\"] = test_predictions\n",
    "# file\n",
    "submission_df.to_csv(\"submission.csv\", index=False)"
   ]
  },
  {
   "cell_type": "code",
   "execution_count": null,
   "metadata": {},
   "outputs": [],
   "source": []
  },
  {
   "cell_type": "code",
   "execution_count": null,
   "metadata": {},
   "outputs": [],
   "source": []
  }
 ],
 "metadata": {
  "kernelspec": {
   "display_name": "Python 3",
   "language": "python",
   "name": "python3"
  },
  "language_info": {
   "codemirror_mode": {
    "name": "ipython",
    "version": 3
   },
   "file_extension": ".py",
   "mimetype": "text/x-python",
   "name": "python",
   "nbconvert_exporter": "python",
   "pygments_lexer": "ipython3",
   "version": "3.7.1"
  }
 },
 "nbformat": 4,
 "nbformat_minor": 5
}
